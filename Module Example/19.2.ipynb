{
 "cells": [
  {
   "cell_type": "markdown",
   "id": "bbbf559b",
   "metadata": {},
   "source": [
    "# 19.2.2"
   ]
  },
  {
   "cell_type": "code",
   "execution_count": 1,
   "id": "d8de725f",
   "metadata": {},
   "outputs": [],
   "source": [
    "# Import our dependencies\n",
    "import pandas as pd\n",
    "import matplotlib as plt\n",
    "from sklearn.datasets import make_blobs\n",
    "import sklearn as skl\n",
    "import tensorflow as tf"
   ]
  },
  {
   "cell_type": "code",
   "execution_count": 2,
   "id": "6093f85f",
   "metadata": {},
   "outputs": [
    {
     "data": {
      "text/plain": [
       "<AxesSubplot:xlabel='Feature 1', ylabel='Feature 2'>"
      ]
     },
     "execution_count": 2,
     "metadata": {},
     "output_type": "execute_result"
    },
    {
     "data": {
      "image/png": "[encoded data removed]",
      "text/plain": [
       "<Figure size 432x288 with 2 Axes>"
      ]
     },
     "metadata": {
      "needs_background": "light"
     },
     "output_type": "display_data"
    }
   ],
   "source": [
    "# Generate dummy dataset\n",
    "X, y = make_blobs(n_samples=1000, centers=2, n_features=2, random_state=78)\n",
    "\n",
    "# Creating a DataFrame with the dummy data\n",
    "df = pd.DataFrame(X, columns=[\"Feature 1\", \"Feature 2\"])\n",
    "df[\"Target\"] = y\n",
    "\n",
    "# Plotting the dummy data\n",
    "df.plot.scatter(x=\"Feature 1\", y=\"Feature 2\", c=\"Target\", colormap=\"winter\")"
   ]
  },
  {
   "cell_type": "code",
   "execution_count": 3,
   "id": "1f88a7c6",
   "metadata": {},
   "outputs": [],
   "source": [
    "# Use sklearn to split dataset\n",
    "from sklearn.model_selection import train_test_split\n",
    "X_train, X_test, y_train, y_test = train_test_split(X, y, random_state=78)"
   ]
  },
  {
   "cell_type": "code",
   "execution_count": 4,
   "id": "40863c52",
   "metadata": {},
   "outputs": [],
   "source": [
    "# Create scaler instance\n",
    "X_scaler = skl.preprocessing.StandardScaler()\n",
    "\n",
    "# Fit the scaler\n",
    "X_scaler.fit(X_train)\n",
    "\n",
    "# Scale the data\n",
    "X_train_scaled = X_scaler.transform(X_train)\n",
    "X_test_scaled = X_scaler.transform(X_test)"
   ]
  },
  {
   "cell_type": "code",
   "execution_count": 5,
   "id": "e6cdff91",
   "metadata": {},
   "outputs": [],
   "source": [
    "# Create the Keras Sequential model\n",
    "nn_model = tf.keras.models.Sequential()"
   ]
  },
  {
   "cell_type": "code",
   "execution_count": 6,
   "id": "cc835e8c",
   "metadata": {},
   "outputs": [],
   "source": [
    "# Add our first Dense layer, including the input layer\n",
    "nn_model.add(tf.keras.layers.Dense(units=1, activation=\"relu\", input_dim=2))"
   ]
  },
  {
   "cell_type": "code",
   "execution_count": 7,
   "id": "0d03b126",
   "metadata": {},
   "outputs": [],
   "source": [
    "# Add the output layer that uses a probability activation function\n",
    "nn_model.add(tf.keras.layers.Dense(units=1, activation=\"sigmoid\"))"
   ]
  },
  {
   "cell_type": "code",
   "execution_count": 8,
   "id": "35151a3c",
   "metadata": {},
   "outputs": [
    {
     "name": "stdout",
     "output_type": "stream",
     "text": [
      "Model: \"sequential\"\n",
      "_________________________________________________________________\n",
      "Layer (type)                 Output Shape              Param #   \n",
      "=================================================================\n",
      "dense (Dense)                (None, 1)                 3         \n",
      "_________________________________________________________________\n",
      "dense_1 (Dense)              (None, 1)                 2         \n",
      "=================================================================\n",
      "Total params: 5\n",
      "Trainable params: 5\n",
      "Non-trainable params: 0\n",
      "_________________________________________________________________\n"
     ]
    }
   ],
   "source": [
    "# Check the structure of the Sequential model\n",
    "nn_model.summary()"
   ]
  },
  {
   "cell_type": "code",
   "execution_count": 9,
   "id": "761b949e",
   "metadata": {},
   "outputs": [],
   "source": [
    "# Compile the Sequential model together and customize metrics\n",
    "nn_model.compile(loss=\"binary_crossentropy\", optimizer=\"adam\", metrics=[\"accuracy\"])"
   ]
  },
  {
   "cell_type": "markdown",
   "id": "ce3800bb",
   "metadata": {},
   "source": [
    "# 19.2.3"
   ]
  },
  {
   "cell_type": "code",
   "execution_count": 10,
   "id": "a081da01",
   "metadata": {},
   "outputs": [
    {
     "name": "stdout",
     "output_type": "stream",
     "text": [
      "Epoch 1/100\n",
      "24/24 [==============================] - 0s 2ms/step - loss: 0.6582 - accuracy: 0.7160\n",
      "Epoch 2/100\n",
      "24/24 [==============================] - 0s 477us/step - loss: 0.6508 - accuracy: 0.9120\n",
      "Epoch 3/100\n",
      "24/24 [==============================] - 0s 434us/step - loss: 0.6427 - accuracy: 0.9200\n",
      "Epoch 4/100\n",
      "24/24 [==============================] - 0s 477us/step - loss: 0.6338 - accuracy: 0.9293\n",
      "Epoch 5/100\n",
      "24/24 [==============================] - 0s 477us/step - loss: 0.6241 - accuracy: 0.9333\n",
      "Epoch 6/100\n",
      "24/24 [==============================] - 0s 499us/step - loss: 0.6138 - accuracy: 0.9387\n",
      "Epoch 7/100\n",
      "24/24 [==============================] - 0s 477us/step - loss: 0.6028 - accuracy: 0.9413\n",
      "Epoch 8/100\n",
      "24/24 [==============================] - 0s 477us/step - loss: 0.5914 - accuracy: 0.9453\n",
      "Epoch 9/100\n",
      "24/24 [==============================] - 0s 477us/step - loss: 0.5794 - accuracy: 0.9453\n",
      "Epoch 10/100\n",
      "24/24 [==============================] - 0s 477us/step - loss: 0.5669 - accuracy: 0.9493\n",
      "Epoch 11/100\n",
      "24/24 [==============================] - 0s 434us/step - loss: 0.5541 - accuracy: 0.9507\n",
      "Epoch 12/100\n",
      "24/24 [==============================] - 0s 477us/step - loss: 0.5412 - accuracy: 0.9520\n",
      "Epoch 13/100\n",
      "24/24 [==============================] - 0s 477us/step - loss: 0.5280 - accuracy: 0.9547\n",
      "Epoch 14/100\n",
      "24/24 [==============================] - 0s 458us/step - loss: 0.5149 - accuracy: 0.9560\n",
      "Epoch 15/100\n",
      "24/24 [==============================] - 0s 477us/step - loss: 0.5018 - accuracy: 0.9573\n",
      "Epoch 16/100\n",
      "24/24 [==============================] - 0s 434us/step - loss: 0.4889 - accuracy: 0.9587\n",
      "Epoch 17/100\n",
      "24/24 [==============================] - 0s 520us/step - loss: 0.4760 - accuracy: 0.9600\n",
      "Epoch 18/100\n",
      "24/24 [==============================] - 0s 434us/step - loss: 0.4635 - accuracy: 0.9613\n",
      "Epoch 19/100\n",
      "24/24 [==============================] - 0s 477us/step - loss: 0.4511 - accuracy: 0.9653\n",
      "Epoch 20/100\n",
      "24/24 [==============================] - 0s 477us/step - loss: 0.4391 - accuracy: 0.9653\n",
      "Epoch 21/100\n",
      "24/24 [==============================] - 0s 477us/step - loss: 0.4273 - accuracy: 0.9680\n",
      "Epoch 22/100\n",
      "24/24 [==============================] - 0s 456us/step - loss: 0.4158 - accuracy: 0.9693\n",
      "Epoch 23/100\n",
      "24/24 [==============================] - 0s 477us/step - loss: 0.4047 - accuracy: 0.9720\n",
      "Epoch 24/100\n",
      "24/24 [==============================] - 0s 519us/step - loss: 0.3939 - accuracy: 0.9733\n",
      "Epoch 25/100\n",
      "24/24 [==============================] - 0s 477us/step - loss: 0.3835 - accuracy: 0.9747\n",
      "Epoch 26/100\n",
      "24/24 [==============================] - 0s 520us/step - loss: 0.3734 - accuracy: 0.9760\n",
      "Epoch 27/100\n",
      "24/24 [==============================] - 0s 477us/step - loss: 0.3636 - accuracy: 0.9787\n",
      "Epoch 28/100\n",
      "24/24 [==============================] - 0s 477us/step - loss: 0.3542 - accuracy: 0.9800\n",
      "Epoch 29/100\n",
      "24/24 [==============================] - 0s 477us/step - loss: 0.3451 - accuracy: 0.9800\n",
      "Epoch 30/100\n",
      "24/24 [==============================] - 0s 477us/step - loss: 0.3363 - accuracy: 0.9813\n",
      "Epoch 31/100\n",
      "24/24 [==============================] - 0s 477us/step - loss: 0.3277 - accuracy: 0.9813\n",
      "Epoch 32/100\n",
      "24/24 [==============================] - 0s 477us/step - loss: 0.3195 - accuracy: 0.9813\n",
      "Epoch 33/100\n",
      "24/24 [==============================] - 0s 564us/step - loss: 0.3115 - accuracy: 0.9813\n",
      "Epoch 34/100\n",
      "24/24 [==============================] - 0s 477us/step - loss: 0.3038 - accuracy: 0.9827\n",
      "Epoch 35/100\n",
      "24/24 [==============================] - 0s 477us/step - loss: 0.2963 - accuracy: 0.9827\n",
      "Epoch 36/100\n",
      "24/24 [==============================] - 0s 434us/step - loss: 0.2890 - accuracy: 0.9827\n",
      "Epoch 37/100\n",
      "24/24 [==============================] - 0s 477us/step - loss: 0.2821 - accuracy: 0.9827\n",
      "Epoch 38/100\n",
      "24/24 [==============================] - 0s 477us/step - loss: 0.2753 - accuracy: 0.9853\n",
      "Epoch 39/100\n",
      "24/24 [==============================] - 0s 477us/step - loss: 0.2687 - accuracy: 0.9867\n",
      "Epoch 40/100\n",
      "24/24 [==============================] - 0s 477us/step - loss: 0.2623 - accuracy: 0.9867\n",
      "Epoch 41/100\n",
      "24/24 [==============================] - 0s 520us/step - loss: 0.2561 - accuracy: 0.9867\n",
      "Epoch 42/100\n",
      "24/24 [==============================] - 0s 477us/step - loss: 0.2501 - accuracy: 0.9880\n",
      "Epoch 43/100\n",
      "24/24 [==============================] - 0s 521us/step - loss: 0.2443 - accuracy: 0.9880\n",
      "Epoch 44/100\n",
      "24/24 [==============================] - 0s 519us/step - loss: 0.2387 - accuracy: 0.9880\n",
      "Epoch 45/100\n",
      "24/24 [==============================] - 0s 477us/step - loss: 0.2332 - accuracy: 0.9880\n",
      "Epoch 46/100\n",
      "24/24 [==============================] - 0s 520us/step - loss: 0.2279 - accuracy: 0.9880\n",
      "Epoch 47/100\n",
      "24/24 [==============================] - 0s 477us/step - loss: 0.2228 - accuracy: 0.9880\n",
      "Epoch 48/100\n",
      "24/24 [==============================] - 0s 522us/step - loss: 0.2178 - accuracy: 0.9880\n",
      "Epoch 49/100\n",
      "24/24 [==============================] - 0s 477us/step - loss: 0.2129 - accuracy: 0.9880\n",
      "Epoch 50/100\n",
      "24/24 [==============================] - 0s 477us/step - loss: 0.2082 - accuracy: 0.9880\n",
      "Epoch 51/100\n",
      "24/24 [==============================] - 0s 477us/step - loss: 0.2036 - accuracy: 0.9907\n",
      "Epoch 52/100\n",
      "24/24 [==============================] - 0s 479us/step - loss: 0.1991 - accuracy: 0.9907\n",
      "Epoch 53/100\n",
      "24/24 [==============================] - 0s 564us/step - loss: 0.1948 - accuracy: 0.9920\n",
      "Epoch 54/100\n",
      "24/24 [==============================] - 0s 520us/step - loss: 0.1906 - accuracy: 0.9920\n",
      "Epoch 55/100\n",
      "24/24 [==============================] - 0s 477us/step - loss: 0.1865 - accuracy: 0.9920\n",
      "Epoch 56/100\n",
      "24/24 [==============================] - 0s 477us/step - loss: 0.1825 - accuracy: 0.9920\n",
      "Epoch 57/100\n",
      "24/24 [==============================] - 0s 477us/step - loss: 0.1787 - accuracy: 0.9920\n",
      "Epoch 58/100\n",
      "24/24 [==============================] - 0s 564us/step - loss: 0.1749 - accuracy: 0.9920\n",
      "Epoch 59/100\n",
      "24/24 [==============================] - 0s 520us/step - loss: 0.1712 - accuracy: 0.9920\n",
      "Epoch 60/100\n",
      "24/24 [==============================] - 0s 477us/step - loss: 0.1677 - accuracy: 0.9920\n",
      "Epoch 61/100\n",
      "24/24 [==============================] - 0s 476us/step - loss: 0.1642 - accuracy: 0.9920\n",
      "Epoch 62/100\n",
      "24/24 [==============================] - 0s 520us/step - loss: 0.1608 - accuracy: 0.9920\n",
      "Epoch 63/100\n",
      "24/24 [==============================] - ETA: 0s - loss: 0.1671 - accuracy: 1.00 - 0s 477us/step - loss: 0.1575 - accuracy: 0.9920\n",
      "Epoch 64/100\n",
      "24/24 [==============================] - 0s 477us/step - loss: 0.1543 - accuracy: 0.9933\n",
      "Epoch 65/100\n",
      "24/24 [==============================] - 0s 477us/step - loss: 0.1512 - accuracy: 0.9960\n",
      "Epoch 66/100\n",
      "24/24 [==============================] - 0s 520us/step - loss: 0.1482 - accuracy: 0.9960\n",
      "Epoch 67/100\n",
      "24/24 [==============================] - 0s 520us/step - loss: 0.1452 - accuracy: 0.9960\n",
      "Epoch 68/100\n",
      "24/24 [==============================] - 0s 522us/step - loss: 0.1424 - accuracy: 0.9973\n",
      "Epoch 69/100\n",
      "24/24 [==============================] - 0s 477us/step - loss: 0.1396 - accuracy: 0.9973\n",
      "Epoch 70/100\n",
      "24/24 [==============================] - 0s 520us/step - loss: 0.1369 - accuracy: 0.9973\n",
      "Epoch 71/100\n",
      "24/24 [==============================] - 0s 520us/step - loss: 0.1342 - accuracy: 0.9973\n",
      "Epoch 72/100\n",
      "24/24 [==============================] - 0s 520us/step - loss: 0.1316 - accuracy: 0.9973\n",
      "Epoch 73/100\n",
      "24/24 [==============================] - 0s 477us/step - loss: 0.1291 - accuracy: 0.9987\n",
      "Epoch 74/100\n",
      "24/24 [==============================] - 0s 477us/step - loss: 0.1266 - accuracy: 1.0000\n",
      "Epoch 75/100\n",
      "24/24 [==============================] - 0s 477us/step - loss: 0.1243 - accuracy: 1.0000\n",
      "Epoch 76/100\n",
      "24/24 [==============================] - 0s 477us/step - loss: 0.1219 - accuracy: 1.0000\n",
      "Epoch 77/100\n",
      "24/24 [==============================] - 0s 477us/step - loss: 0.1197 - accuracy: 1.0000\n",
      "Epoch 78/100\n",
      "24/24 [==============================] - 0s 477us/step - loss: 0.1174 - accuracy: 1.0000\n",
      "Epoch 79/100\n",
      "24/24 [==============================] - 0s 477us/step - loss: 0.1152 - accuracy: 1.0000\n",
      "Epoch 80/100\n",
      "24/24 [==============================] - 0s 476us/step - loss: 0.1131 - accuracy: 1.0000\n",
      "Epoch 81/100\n"
     ]
    },
    {
     "name": "stdout",
     "output_type": "stream",
     "text": [
      "24/24 [==============================] - 0s 478us/step - loss: 0.1111 - accuracy: 1.0000\n",
      "Epoch 82/100\n",
      "24/24 [==============================] - 0s 477us/step - loss: 0.1090 - accuracy: 1.0000\n",
      "Epoch 83/100\n",
      "24/24 [==============================] - 0s 520us/step - loss: 0.1071 - accuracy: 1.0000\n",
      "Epoch 84/100\n",
      "24/24 [==============================] - 0s 520us/step - loss: 0.1051 - accuracy: 1.0000\n",
      "Epoch 85/100\n",
      "24/24 [==============================] - 0s 477us/step - loss: 0.1032 - accuracy: 1.0000\n",
      "Epoch 86/100\n",
      "24/24 [==============================] - 0s 434us/step - loss: 0.1014 - accuracy: 1.0000\n",
      "Epoch 87/100\n",
      "24/24 [==============================] - 0s 519us/step - loss: 0.0996 - accuracy: 1.0000\n",
      "Epoch 88/100\n",
      "24/24 [==============================] - 0s 520us/step - loss: 0.0978 - accuracy: 1.0000\n",
      "Epoch 89/100\n",
      "24/24 [==============================] - 0s 477us/step - loss: 0.0961 - accuracy: 1.0000\n",
      "Epoch 90/100\n",
      "24/24 [==============================] - 0s 477us/step - loss: 0.0945 - accuracy: 1.0000\n",
      "Epoch 91/100\n",
      "24/24 [==============================] - 0s 520us/step - loss: 0.0928 - accuracy: 1.0000\n",
      "Epoch 92/100\n",
      "24/24 [==============================] - 0s 477us/step - loss: 0.0913 - accuracy: 1.0000\n",
      "Epoch 93/100\n",
      "24/24 [==============================] - ETA: 0s - loss: 0.0972 - accuracy: 1.00 - 0s 520us/step - loss: 0.0897 - accuracy: 1.0000\n",
      "Epoch 94/100\n",
      "24/24 [==============================] - 0s 520us/step - loss: 0.0882 - accuracy: 1.0000\n",
      "Epoch 95/100\n",
      "24/24 [==============================] - 0s 520us/step - loss: 0.0867 - accuracy: 1.0000\n",
      "Epoch 96/100\n",
      "24/24 [==============================] - 0s 520us/step - loss: 0.0853 - accuracy: 1.0000\n",
      "Epoch 97/100\n",
      "24/24 [==============================] - 0s 477us/step - loss: 0.0839 - accuracy: 1.0000\n",
      "Epoch 98/100\n",
      "24/24 [==============================] - 0s 520us/step - loss: 0.0825 - accuracy: 1.0000\n",
      "Epoch 99/100\n",
      "24/24 [==============================] - 0s 520us/step - loss: 0.0811 - accuracy: 1.0000\n",
      "Epoch 100/100\n",
      "24/24 [==============================] - 0s 519us/step - loss: 0.0798 - accuracy: 1.0000\n"
     ]
    }
   ],
   "source": [
    "# Fit the model to the training data\n",
    "fit_model = nn_model.fit(X_train_scaled, y_train, epochs=100)"
   ]
  },
  {
   "cell_type": "code",
   "execution_count": 11,
   "id": "a20bf357",
   "metadata": {},
   "outputs": [
    {
     "data": {
      "text/plain": [
       "<AxesSubplot:>"
      ]
     },
     "execution_count": 11,
     "metadata": {},
     "output_type": "execute_result"
    },
    {
     "data": {
      "image/png": "[encoded data removed]",
      "text/plain": [
       "<Figure size 432x288 with 1 Axes>"
      ]
     },
     "metadata": {
      "needs_background": "light"
     },
     "output_type": "display_data"
    }
   ],
   "source": [
    "# Create a DataFrame containing training history\n",
    "history_df = pd.DataFrame(fit_model.history, index=range(1,len(fit_model.history[\"loss\"])+1))\n",
    "\n",
    "# Plot the loss\n",
    "history_df.plot(y=\"loss\")"
   ]
  },
  {
   "cell_type": "code",
   "execution_count": 12,
   "id": "39c69a98",
   "metadata": {},
   "outputs": [
    {
     "data": {
      "text/plain": [
       "<AxesSubplot:>"
      ]
     },
     "execution_count": 12,
     "metadata": {},
     "output_type": "execute_result"
    },
    {
     "data": {
      "image/png": "[encoded data removed]",
      "text/plain": [
       "<Figure size 432x288 with 1 Axes>"
      ]
     },
     "metadata": {
      "needs_background": "light"
     },
     "output_type": "display_data"
    }
   ],
   "source": [
    "# Plot the accuracy\n",
    "history_df.plot(y=\"accuracy\")"
   ]
  },
  {
   "cell_type": "code",
   "execution_count": 13,
   "id": "2f04e7f1",
   "metadata": {},
   "outputs": [
    {
     "name": "stdout",
     "output_type": "stream",
     "text": [
      "8/8 - 0s - loss: 0.0740 - accuracy: 1.0000\n",
      "Loss: 0.07402299344539642, Accuracy: 1.0\n"
     ]
    }
   ],
   "source": [
    "# Evaluate the model using the test data\n",
    "model_loss, model_accuracy = nn_model.evaluate(X_test_scaled,y_test,verbose=2)\n",
    "print(f\"Loss: {model_loss}, Accuracy: {model_accuracy}\")"
   ]
  },
  {
   "cell_type": "code",
   "execution_count": 14,
   "id": "a5f463a9",
   "metadata": {},
   "outputs": [
    {
     "data": {
      "text/plain": [
       "array([[0],\n",
       "       [1],\n",
       "       [0],\n",
       "       [1],\n",
       "       [0],\n",
       "       [0],\n",
       "       [1],\n",
       "       [1],\n",
       "       [1],\n",
       "       [0]])"
      ]
     },
     "execution_count": 14,
     "metadata": {},
     "output_type": "execute_result"
    }
   ],
   "source": [
    "# Predict the classification of a new set of blob data\n",
    "new_X, new_Y = make_blobs(n_samples=10, centers=2, n_features=2, random_state=78)\n",
    "new_X_scaled = X_scaler.transform(new_X)\n",
    "(nn_model.predict(new_X_scaled) > 0.5).astype(\"int32\")"
   ]
  },
  {
   "cell_type": "markdown",
   "id": "6fa00216",
   "metadata": {},
   "source": [
    "# 19.2.4"
   ]
  },
  {
   "cell_type": "code",
   "execution_count": 15,
   "id": "6c7905ba",
   "metadata": {},
   "outputs": [
    {
     "data": {
      "text/plain": [
       "<AxesSubplot:xlabel='Feature 1', ylabel='Feature 2'>"
      ]
     },
     "execution_count": 15,
     "metadata": {},
     "output_type": "execute_result"
    },
    {
     "data": {
      "image/png": "[encoded data removed]",
      "text/plain": [
       "<Figure size 432x288 with 2 Axes>"
      ]
     },
     "metadata": {
      "needs_background": "light"
     },
     "output_type": "display_data"
    }
   ],
   "source": [
    "from sklearn.datasets import make_moons\n",
    "\n",
    "# Creating dummy nonlinear data\n",
    "X_moons, y_moons = make_moons(n_samples=1000, noise=0.08, random_state=78)\n",
    "\n",
    "# Transforming y_moons to a vertical vector\n",
    "y_moons = y_moons.reshape(-1, 1)\n",
    "\n",
    "# Creating a DataFrame to plot the nonlinear dummy data\n",
    "df_moons = pd.DataFrame(X_moons, columns=[\"Feature 1\", \"Feature 2\"])\n",
    "df_moons[\"Target\"] = y_moons\n",
    "\n",
    "# Plot the nonlinear dummy data\n",
    "df_moons.plot.scatter(x=\"Feature 1\",y=\"Feature 2\", c=\"Target\",colormap=\"winter\")\n"
   ]
  },
  {
   "cell_type": "code",
   "execution_count": 16,
   "id": "00eba4f8",
   "metadata": {},
   "outputs": [],
   "source": [
    "# Create training and testing sets\n",
    "X_moon_train, X_moon_test, y_moon_train, y_moon_test = train_test_split(\n",
    "    X_moons, y_moons, random_state=78\n",
    ")\n",
    "\n",
    "# Create the scaler instance\n",
    "X_moon_scaler = skl.preprocessing.StandardScaler()\n",
    "\n",
    "# Fit the scaler\n",
    "X_moon_scaler.fit(X_moon_train)\n",
    "\n",
    "# Scale the data\n",
    "X_moon_train_scaled = X_moon_scaler.transform(X_moon_train)\n",
    "X_moon_test_scaled = X_moon_scaler.transform(X_moon_test)"
   ]
  },
  {
   "cell_type": "code",
   "execution_count": 17,
   "id": "f3429f95",
   "metadata": {},
   "outputs": [
    {
     "name": "stdout",
     "output_type": "stream",
     "text": [
      "Epoch 1/100\n",
      "24/24 [==============================] - 0s 737us/step - loss: 1.2250 - accuracy: 0.4093\n",
      "Epoch 2/100\n",
      "24/24 [==============================] - 0s 867us/step - loss: 1.0826 - accuracy: 0.4347\n",
      "Epoch 3/100\n",
      "24/24 [==============================] - 0s 780us/step - loss: 0.9875 - accuracy: 0.4507\n",
      "Epoch 4/100\n",
      "24/24 [==============================] - 0s 737us/step - loss: 0.9248 - accuracy: 0.4720\n",
      "Epoch 5/100\n",
      "24/24 [==============================] - 0s 737us/step - loss: 0.8787 - accuracy: 0.4867\n",
      "Epoch 6/100\n",
      "24/24 [==============================] - 0s 781us/step - loss: 0.8430 - accuracy: 0.4947\n",
      "Epoch 7/100\n",
      "24/24 [==============================] - 0s 737us/step - loss: 0.8149 - accuracy: 0.5173\n",
      "Epoch 8/100\n",
      "24/24 [==============================] - 0s 781us/step - loss: 0.7906 - accuracy: 0.5267\n",
      "Epoch 9/100\n",
      "24/24 [==============================] - 0s 715us/step - loss: 0.7702 - accuracy: 0.5413\n",
      "Epoch 10/100\n",
      "24/24 [==============================] - 0s 737us/step - loss: 0.7517 - accuracy: 0.5507\n",
      "Epoch 11/100\n",
      "24/24 [==============================] - 0s 737us/step - loss: 0.7349 - accuracy: 0.5613\n",
      "Epoch 12/100\n",
      "24/24 [==============================] - 0s 737us/step - loss: 0.7195 - accuracy: 0.5707\n",
      "Epoch 13/100\n",
      "24/24 [==============================] - 0s 737us/step - loss: 0.7055 - accuracy: 0.5747\n",
      "Epoch 14/100\n",
      "24/24 [==============================] - 0s 709us/step - loss: 0.6925 - accuracy: 0.5840\n",
      "Epoch 15/100\n",
      "24/24 [==============================] - 0s 737us/step - loss: 0.6801 - accuracy: 0.5920\n",
      "Epoch 16/100\n",
      "24/24 [==============================] - 0s 781us/step - loss: 0.6685 - accuracy: 0.5973\n",
      "Epoch 17/100\n",
      "24/24 [==============================] - 0s 781us/step - loss: 0.6577 - accuracy: 0.6067\n",
      "Epoch 18/100\n",
      "24/24 [==============================] - 0s 737us/step - loss: 0.6479 - accuracy: 0.6107\n",
      "Epoch 19/100\n",
      "24/24 [==============================] - ETA: 0s - loss: 0.6967 - accuracy: 0.53 - 0s 781us/step - loss: 0.6377 - accuracy: 0.6133\n",
      "Epoch 20/100\n",
      "24/24 [==============================] - 0s 824us/step - loss: 0.6286 - accuracy: 0.6133\n",
      "Epoch 21/100\n",
      "24/24 [==============================] - 0s 737us/step - loss: 0.6196 - accuracy: 0.6213\n",
      "Epoch 22/100\n",
      "24/24 [==============================] - 0s 737us/step - loss: 0.6110 - accuracy: 0.6227\n",
      "Epoch 23/100\n",
      "24/24 [==============================] - 0s 781us/step - loss: 0.6028 - accuracy: 0.6280\n",
      "Epoch 24/100\n",
      "24/24 [==============================] - 0s 781us/step - loss: 0.5949 - accuracy: 0.6333\n",
      "Epoch 25/100\n",
      "24/24 [==============================] - 0s 781us/step - loss: 0.5871 - accuracy: 0.6347\n",
      "Epoch 26/100\n",
      "24/24 [==============================] - 0s 781us/step - loss: 0.5800 - accuracy: 0.6373\n",
      "Epoch 27/100\n",
      "24/24 [==============================] - 0s 737us/step - loss: 0.5730 - accuracy: 0.6427\n",
      "Epoch 28/100\n",
      "24/24 [==============================] - 0s 781us/step - loss: 0.5660 - accuracy: 0.6453\n",
      "Epoch 29/100\n",
      "24/24 [==============================] - 0s 737us/step - loss: 0.5595 - accuracy: 0.6480\n",
      "Epoch 30/100\n",
      "24/24 [==============================] - 0s 781us/step - loss: 0.5532 - accuracy: 0.6533\n",
      "Epoch 31/100\n",
      "24/24 [==============================] - 0s 737us/step - loss: 0.5472 - accuracy: 0.6573\n",
      "Epoch 32/100\n",
      "24/24 [==============================] - 0s 737us/step - loss: 0.5412 - accuracy: 0.6587\n",
      "Epoch 33/100\n",
      "24/24 [==============================] - 0s 781us/step - loss: 0.5355 - accuracy: 0.6613\n",
      "Epoch 34/100\n",
      "24/24 [==============================] - ETA: 0s - loss: 0.4726 - accuracy: 0.68 - 0s 781us/step - loss: 0.5299 - accuracy: 0.6667\n",
      "Epoch 35/100\n",
      "24/24 [==============================] - 0s 781us/step - loss: 0.5244 - accuracy: 0.6733\n",
      "Epoch 36/100\n",
      "24/24 [==============================] - 0s 781us/step - loss: 0.5191 - accuracy: 0.6813\n",
      "Epoch 37/100\n",
      "24/24 [==============================] - 0s 781us/step - loss: 0.5139 - accuracy: 0.6827\n",
      "Epoch 38/100\n",
      "24/24 [==============================] - 0s 737us/step - loss: 0.5090 - accuracy: 0.6867\n",
      "Epoch 39/100\n",
      "24/24 [==============================] - 0s 781us/step - loss: 0.5040 - accuracy: 0.6893\n",
      "Epoch 40/100\n",
      "24/24 [==============================] - 0s 781us/step - loss: 0.4992 - accuracy: 0.6920\n",
      "Epoch 41/100\n",
      "24/24 [==============================] - 0s 781us/step - loss: 0.4944 - accuracy: 0.6973\n",
      "Epoch 42/100\n",
      "24/24 [==============================] - 0s 911us/step - loss: 0.4898 - accuracy: 0.6987\n",
      "Epoch 43/100\n",
      "24/24 [==============================] - 0s 824us/step - loss: 0.4853 - accuracy: 0.7000\n",
      "Epoch 44/100\n",
      "24/24 [==============================] - 0s 824us/step - loss: 0.4808 - accuracy: 0.7053\n",
      "Epoch 45/100\n",
      "24/24 [==============================] - ETA: 0s - loss: 0.4176 - accuracy: 0.78 - 0s 737us/step - loss: 0.4763 - accuracy: 0.7133\n",
      "Epoch 46/100\n",
      "24/24 [==============================] - 0s 781us/step - loss: 0.4719 - accuracy: 0.7173\n",
      "Epoch 47/100\n",
      "24/24 [==============================] - 0s 781us/step - loss: 0.4676 - accuracy: 0.7200\n",
      "Epoch 48/100\n",
      "24/24 [==============================] - 0s 781us/step - loss: 0.4633 - accuracy: 0.7213\n",
      "Epoch 49/100\n",
      "24/24 [==============================] - 0s 737us/step - loss: 0.4591 - accuracy: 0.7227\n",
      "Epoch 50/100\n",
      "24/24 [==============================] - 0s 781us/step - loss: 0.4549 - accuracy: 0.7267\n",
      "Epoch 51/100\n",
      "24/24 [==============================] - 0s 737us/step - loss: 0.4507 - accuracy: 0.7333\n",
      "Epoch 52/100\n",
      "24/24 [==============================] - 0s 737us/step - loss: 0.4466 - accuracy: 0.7373\n",
      "Epoch 53/100\n",
      "24/24 [==============================] - 0s 781us/step - loss: 0.4425 - accuracy: 0.7440\n",
      "Epoch 54/100\n",
      "24/24 [==============================] - 0s 737us/step - loss: 0.4385 - accuracy: 0.7453\n",
      "Epoch 55/100\n",
      "24/24 [==============================] - 0s 781us/step - loss: 0.4344 - accuracy: 0.7507\n",
      "Epoch 56/100\n",
      "24/24 [==============================] - 0s 824us/step - loss: 0.4304 - accuracy: 0.7600\n",
      "Epoch 57/100\n",
      "24/24 [==============================] - 0s 781us/step - loss: 0.4265 - accuracy: 0.7627\n",
      "Epoch 58/100\n",
      "24/24 [==============================] - 0s 824us/step - loss: 0.4225 - accuracy: 0.7653\n",
      "Epoch 59/100\n",
      "24/24 [==============================] - 0s 781us/step - loss: 0.4187 - accuracy: 0.7720\n",
      "Epoch 60/100\n",
      "24/24 [==============================] - 0s 781us/step - loss: 0.4148 - accuracy: 0.7760\n",
      "Epoch 61/100\n",
      "24/24 [==============================] - 0s 737us/step - loss: 0.4109 - accuracy: 0.7787\n",
      "Epoch 62/100\n",
      "24/24 [==============================] - 0s 781us/step - loss: 0.4071 - accuracy: 0.7800\n",
      "Epoch 63/100\n",
      "24/24 [==============================] - 0s 780us/step - loss: 0.4034 - accuracy: 0.7813\n",
      "Epoch 64/100\n",
      "24/24 [==============================] - 0s 781us/step - loss: 0.3996 - accuracy: 0.7853\n",
      "Epoch 65/100\n",
      "24/24 [==============================] - 0s 762us/step - loss: 0.3957 - accuracy: 0.7867\n",
      "Epoch 66/100\n",
      "24/24 [==============================] - 0s 824us/step - loss: 0.3921 - accuracy: 0.7893\n",
      "Epoch 67/100\n",
      "24/24 [==============================] - 0s 780us/step - loss: 0.3883 - accuracy: 0.7907\n",
      "Epoch 68/100\n",
      "24/24 [==============================] - 0s 781us/step - loss: 0.3848 - accuracy: 0.7920\n",
      "Epoch 69/100\n",
      "24/24 [==============================] - 0s 781us/step - loss: 0.3810 - accuracy: 0.7920\n",
      "Epoch 70/100\n",
      "24/24 [==============================] - 0s 816us/step - loss: 0.3774 - accuracy: 0.7947\n",
      "Epoch 71/100\n",
      "24/24 [==============================] - 0s 781us/step - loss: 0.3739 - accuracy: 0.7973\n",
      "Epoch 72/100\n",
      "24/24 [==============================] - 0s 781us/step - loss: 0.3704 - accuracy: 0.8000\n",
      "Epoch 73/100\n",
      "24/24 [==============================] - 0s 781us/step - loss: 0.3670 - accuracy: 0.8053\n",
      "Epoch 74/100\n",
      "24/24 [==============================] - 0s 954us/step - loss: 0.3637 - accuracy: 0.8093\n",
      "Epoch 75/100\n",
      "24/24 [==============================] - 0s 781us/step - loss: 0.3604 - accuracy: 0.8107\n",
      "Epoch 76/100\n",
      "24/24 [==============================] - 0s 781us/step - loss: 0.3572 - accuracy: 0.8120\n",
      "Epoch 77/100\n",
      "24/24 [==============================] - 0s 781us/step - loss: 0.3542 - accuracy: 0.8160\n",
      "Epoch 78/100\n",
      "24/24 [==============================] - 0s 781us/step - loss: 0.3510 - accuracy: 0.8173\n",
      "Epoch 79/100\n",
      "24/24 [==============================] - 0s 781us/step - loss: 0.3480 - accuracy: 0.8200\n",
      "Epoch 80/100\n"
     ]
    },
    {
     "name": "stdout",
     "output_type": "stream",
     "text": [
      "24/24 [==============================] - 0s 778us/step - loss: 0.3452 - accuracy: 0.8280\n",
      "Epoch 81/100\n",
      "24/24 [==============================] - 0s 737us/step - loss: 0.3425 - accuracy: 0.8320\n",
      "Epoch 82/100\n",
      "24/24 [==============================] - 0s 781us/step - loss: 0.3398 - accuracy: 0.8320\n",
      "Epoch 83/100\n",
      "24/24 [==============================] - 0s 781us/step - loss: 0.3372 - accuracy: 0.8333\n",
      "Epoch 84/100\n",
      "24/24 [==============================] - 0s 781us/step - loss: 0.3346 - accuracy: 0.8333\n",
      "Epoch 85/100\n",
      "24/24 [==============================] - 0s 761us/step - loss: 0.3322 - accuracy: 0.8387\n",
      "Epoch 86/100\n",
      "24/24 [==============================] - ETA: 0s - loss: 0.3395 - accuracy: 0.84 - 0s 781us/step - loss: 0.3297 - accuracy: 0.8400\n",
      "Epoch 87/100\n",
      "24/24 [==============================] - 0s 781us/step - loss: 0.3273 - accuracy: 0.8453\n",
      "Epoch 88/100\n",
      "24/24 [==============================] - ETA: 0s - loss: 0.3081 - accuracy: 0.87 - 0s 737us/step - loss: 0.3250 - accuracy: 0.8480\n",
      "Epoch 89/100\n",
      "24/24 [==============================] - 0s 781us/step - loss: 0.3229 - accuracy: 0.8493\n",
      "Epoch 90/100\n",
      "24/24 [==============================] - 0s 781us/step - loss: 0.3206 - accuracy: 0.8520\n",
      "Epoch 91/100\n",
      "24/24 [==============================] - 0s 867us/step - loss: 0.3184 - accuracy: 0.8533\n",
      "Epoch 92/100\n",
      "24/24 [==============================] - 0s 781us/step - loss: 0.3164 - accuracy: 0.8560\n",
      "Epoch 93/100\n",
      "24/24 [==============================] - 0s 781us/step - loss: 0.3144 - accuracy: 0.8573\n",
      "Epoch 94/100\n",
      "24/24 [==============================] - 0s 824us/step - loss: 0.3125 - accuracy: 0.8627\n",
      "Epoch 95/100\n",
      "24/24 [==============================] - 0s 781us/step - loss: 0.3106 - accuracy: 0.8640\n",
      "Epoch 96/100\n",
      "24/24 [==============================] - 0s 780us/step - loss: 0.3088 - accuracy: 0.8653\n",
      "Epoch 97/100\n",
      "24/24 [==============================] - 0s 737us/step - loss: 0.3070 - accuracy: 0.8653\n",
      "Epoch 98/100\n",
      "24/24 [==============================] - 0s 781us/step - loss: 0.3053 - accuracy: 0.8653\n",
      "Epoch 99/100\n",
      "24/24 [==============================] - 0s 781us/step - loss: 0.3035 - accuracy: 0.8653\n",
      "Epoch 100/100\n",
      "24/24 [==============================] - 0s 780us/step - loss: 0.3019 - accuracy: 0.8667\n"
     ]
    }
   ],
   "source": [
    "# Training the model with the nonlinear data\n",
    "model_moon = nn_model.fit(X_moon_train_scaled, y_moon_train, epochs=100, shuffle=True)"
   ]
  },
  {
   "cell_type": "code",
   "execution_count": 18,
   "id": "db382bc7",
   "metadata": {},
   "outputs": [
    {
     "data": {
      "text/plain": [
       "<AxesSubplot:>"
      ]
     },
     "execution_count": 18,
     "metadata": {},
     "output_type": "execute_result"
    },
    {
     "data": {
      "image/png": "[encoded data removed]",
      "text/plain": [
       "<Figure size 432x288 with 1 Axes>"
      ]
     },
     "metadata": {
      "needs_background": "light"
     },
     "output_type": "display_data"
    }
   ],
   "source": [
    "# Create a DataFrame containing training history\n",
    "history_df = pd.DataFrame(model_moon.history, index=range(1,len(model_moon.history[\"loss\"])+1))\n",
    "\n",
    "# Plot the loss\n",
    "history_df.plot(y=\"loss\")"
   ]
  },
  {
   "cell_type": "code",
   "execution_count": 19,
   "id": "b1da18db",
   "metadata": {},
   "outputs": [
    {
     "data": {
      "text/plain": [
       "<AxesSubplot:>"
      ]
     },
     "execution_count": 19,
     "metadata": {},
     "output_type": "execute_result"
    },
    {
     "data": {
      "image/png": "[encoded data removed]",
      "text/plain": [
       "<Figure size 432x288 with 1 Axes>"
      ]
     },
     "metadata": {
      "needs_background": "light"
     },
     "output_type": "display_data"
    }
   ],
   "source": [
    "# Plot the accuracy\n",
    "history_df.plot(y=\"accuracy\")"
   ]
  },
  {
   "cell_type": "markdown",
   "id": "7b522d1a",
   "metadata": {},
   "source": [
    "# 19.2.5"
   ]
  },
  {
   "cell_type": "code",
   "execution_count": 20,
   "id": "87c75011",
   "metadata": {},
   "outputs": [],
   "source": [
    "# Generate our new Sequential model\n",
    "new_model = tf.keras.models.Sequential()"
   ]
  },
  {
   "cell_type": "code",
   "execution_count": 21,
   "id": "515125a1",
   "metadata": {},
   "outputs": [],
   "source": [
    "# Add the input and hidden layer\n",
    "number_inputs = 2\n",
    "number_hidden_nodes = 6\n",
    "\n",
    "new_model.add(tf.keras.layers.Dense(units=number_hidden_nodes, activation=\"relu\", input_dim=number_inputs))\n",
    "\n",
    "# Add the output layer that uses a probability activation function\n",
    "new_model.add(tf.keras.layers.Dense(units=1, activation=\"sigmoid\"))"
   ]
  },
  {
   "cell_type": "code",
   "execution_count": 22,
   "id": "dfe4dd5d",
   "metadata": {},
   "outputs": [
    {
     "name": "stdout",
     "output_type": "stream",
     "text": [
      "Epoch 1/100\n",
      "24/24 [==============================] - 0s 477us/step - loss: 0.7279 - accuracy: 0.3467\n",
      "Epoch 2/100\n",
      "24/24 [==============================] - 0s 477us/step - loss: 0.6953 - accuracy: 0.4800\n",
      "Epoch 3/100\n",
      "24/24 [==============================] - 0s 477us/step - loss: 0.6656 - accuracy: 0.5453\n",
      "Epoch 4/100\n",
      "24/24 [==============================] - 0s 434us/step - loss: 0.6391 - accuracy: 0.5880\n",
      "Epoch 5/100\n",
      "24/24 [==============================] - 0s 520us/step - loss: 0.6140 - accuracy: 0.6507\n",
      "Epoch 6/100\n",
      "24/24 [==============================] - 0s 503us/step - loss: 0.5893 - accuracy: 0.7013\n",
      "Epoch 7/100\n",
      "24/24 [==============================] - 0s 477us/step - loss: 0.5655 - accuracy: 0.7480\n",
      "Epoch 8/100\n",
      "24/24 [==============================] - 0s 477us/step - loss: 0.5416 - accuracy: 0.7733\n",
      "Epoch 9/100\n",
      "24/24 [==============================] - 0s 434us/step - loss: 0.5180 - accuracy: 0.7907\n",
      "Epoch 10/100\n",
      "24/24 [==============================] - 0s 477us/step - loss: 0.4944 - accuracy: 0.8187\n",
      "Epoch 11/100\n",
      "24/24 [==============================] - 0s 477us/step - loss: 0.4724 - accuracy: 0.8280\n",
      "Epoch 12/100\n",
      "24/24 [==============================] - 0s 477us/step - loss: 0.4513 - accuracy: 0.8453\n",
      "Epoch 13/100\n",
      "24/24 [==============================] - 0s 520us/step - loss: 0.4319 - accuracy: 0.8547\n",
      "Epoch 14/100\n",
      "24/24 [==============================] - 0s 502us/step - loss: 0.4136 - accuracy: 0.8613\n",
      "Epoch 15/100\n",
      "24/24 [==============================] - 0s 477us/step - loss: 0.3970 - accuracy: 0.8680\n",
      "Epoch 16/100\n",
      "24/24 [==============================] - 0s 477us/step - loss: 0.3816 - accuracy: 0.8733\n",
      "Epoch 17/100\n",
      "24/24 [==============================] - 0s 520us/step - loss: 0.3680 - accuracy: 0.8747\n",
      "Epoch 18/100\n",
      "24/24 [==============================] - ETA: 0s - loss: 0.3171 - accuracy: 0.90 - 0s 520us/step - loss: 0.3555 - accuracy: 0.8827\n",
      "Epoch 19/100\n",
      "24/24 [==============================] - 0s 520us/step - loss: 0.3446 - accuracy: 0.8827\n",
      "Epoch 20/100\n",
      "24/24 [==============================] - 0s 477us/step - loss: 0.3350 - accuracy: 0.8827\n",
      "Epoch 21/100\n",
      "24/24 [==============================] - 0s 477us/step - loss: 0.3263 - accuracy: 0.8840\n",
      "Epoch 22/100\n",
      "24/24 [==============================] - 0s 477us/step - loss: 0.3187 - accuracy: 0.8853\n",
      "Epoch 23/100\n",
      "24/24 [==============================] - 0s 477us/step - loss: 0.3119 - accuracy: 0.8867\n",
      "Epoch 24/100\n",
      "24/24 [==============================] - 0s 477us/step - loss: 0.3060 - accuracy: 0.8867\n",
      "Epoch 25/100\n",
      "24/24 [==============================] - 0s 477us/step - loss: 0.3006 - accuracy: 0.8880\n",
      "Epoch 26/100\n",
      "24/24 [==============================] - 0s 520us/step - loss: 0.2958 - accuracy: 0.8867\n",
      "Epoch 27/100\n",
      "24/24 [==============================] - 0s 477us/step - loss: 0.2915 - accuracy: 0.8867\n",
      "Epoch 28/100\n",
      "24/24 [==============================] - 0s 520us/step - loss: 0.2875 - accuracy: 0.8893\n",
      "Epoch 29/100\n",
      "24/24 [==============================] - 0s 477us/step - loss: 0.2837 - accuracy: 0.8907\n",
      "Epoch 30/100\n",
      "24/24 [==============================] - 0s 477us/step - loss: 0.2803 - accuracy: 0.8907\n",
      "Epoch 31/100\n",
      "24/24 [==============================] - 0s 477us/step - loss: 0.2771 - accuracy: 0.8920\n",
      "Epoch 32/100\n",
      "24/24 [==============================] - 0s 477us/step - loss: 0.2742 - accuracy: 0.8920\n",
      "Epoch 33/100\n",
      "24/24 [==============================] - 0s 477us/step - loss: 0.2715 - accuracy: 0.8920\n",
      "Epoch 34/100\n",
      "24/24 [==============================] - 0s 477us/step - loss: 0.2690 - accuracy: 0.8933\n",
      "Epoch 35/100\n",
      "24/24 [==============================] - 0s 520us/step - loss: 0.2667 - accuracy: 0.8933\n",
      "Epoch 36/100\n",
      "24/24 [==============================] - 0s 477us/step - loss: 0.2646 - accuracy: 0.8920\n",
      "Epoch 37/100\n",
      "24/24 [==============================] - 0s 504us/step - loss: 0.2626 - accuracy: 0.8907\n",
      "Epoch 38/100\n",
      "24/24 [==============================] - 0s 520us/step - loss: 0.2606 - accuracy: 0.8907\n",
      "Epoch 39/100\n",
      "24/24 [==============================] - 0s 520us/step - loss: 0.2589 - accuracy: 0.8920\n",
      "Epoch 40/100\n",
      "24/24 [==============================] - 0s 520us/step - loss: 0.2571 - accuracy: 0.8920\n",
      "Epoch 41/100\n",
      "24/24 [==============================] - 0s 477us/step - loss: 0.2555 - accuracy: 0.8933\n",
      "Epoch 42/100\n",
      "24/24 [==============================] - 0s 477us/step - loss: 0.2540 - accuracy: 0.8933\n",
      "Epoch 43/100\n",
      "24/24 [==============================] - 0s 477us/step - loss: 0.2526 - accuracy: 0.8933\n",
      "Epoch 44/100\n",
      "24/24 [==============================] - 0s 520us/step - loss: 0.2515 - accuracy: 0.8933\n",
      "Epoch 45/100\n",
      "24/24 [==============================] - 0s 433us/step - loss: 0.2502 - accuracy: 0.8933\n",
      "Epoch 46/100\n",
      "24/24 [==============================] - 0s 520us/step - loss: 0.2491 - accuracy: 0.8947\n",
      "Epoch 47/100\n",
      "24/24 [==============================] - 0s 477us/step - loss: 0.2480 - accuracy: 0.8947\n",
      "Epoch 48/100\n",
      "24/24 [==============================] - 0s 477us/step - loss: 0.2471 - accuracy: 0.8933\n",
      "Epoch 49/100\n",
      "24/24 [==============================] - 0s 520us/step - loss: 0.2461 - accuracy: 0.8933\n",
      "Epoch 50/100\n",
      "24/24 [==============================] - 0s 477us/step - loss: 0.2453 - accuracy: 0.8920\n",
      "Epoch 51/100\n",
      "24/24 [==============================] - 0s 477us/step - loss: 0.2445 - accuracy: 0.8920\n",
      "Epoch 52/100\n",
      "24/24 [==============================] - 0s 520us/step - loss: 0.2437 - accuracy: 0.8920\n",
      "Epoch 53/100\n",
      "24/24 [==============================] - 0s 434us/step - loss: 0.2429 - accuracy: 0.8933\n",
      "Epoch 54/100\n",
      "24/24 [==============================] - 0s 477us/step - loss: 0.2422 - accuracy: 0.8933\n",
      "Epoch 55/100\n",
      "24/24 [==============================] - 0s 520us/step - loss: 0.2416 - accuracy: 0.8933\n",
      "Epoch 56/100\n",
      "24/24 [==============================] - 0s 477us/step - loss: 0.2410 - accuracy: 0.8933\n",
      "Epoch 57/100\n",
      "24/24 [==============================] - 0s 520us/step - loss: 0.2403 - accuracy: 0.8933\n",
      "Epoch 58/100\n",
      "24/24 [==============================] - 0s 477us/step - loss: 0.2396 - accuracy: 0.8947\n",
      "Epoch 59/100\n",
      "24/24 [==============================] - 0s 477us/step - loss: 0.2390 - accuracy: 0.8947\n",
      "Epoch 60/100\n",
      "24/24 [==============================] - 0s 477us/step - loss: 0.2384 - accuracy: 0.8960\n",
      "Epoch 61/100\n",
      "24/24 [==============================] - 0s 477us/step - loss: 0.2378 - accuracy: 0.8973\n",
      "Epoch 62/100\n",
      "24/24 [==============================] - 0s 520us/step - loss: 0.2372 - accuracy: 0.8960\n",
      "Epoch 63/100\n",
      "24/24 [==============================] - 0s 477us/step - loss: 0.2366 - accuracy: 0.8960\n",
      "Epoch 64/100\n",
      "24/24 [==============================] - 0s 520us/step - loss: 0.2361 - accuracy: 0.8960\n",
      "Epoch 65/100\n",
      "24/24 [==============================] - 0s 477us/step - loss: 0.2356 - accuracy: 0.8960\n",
      "Epoch 66/100\n",
      "24/24 [==============================] - 0s 520us/step - loss: 0.2351 - accuracy: 0.8987\n",
      "Epoch 67/100\n",
      "24/24 [==============================] - 0s 520us/step - loss: 0.2345 - accuracy: 0.8973\n",
      "Epoch 68/100\n",
      "24/24 [==============================] - 0s 520us/step - loss: 0.2340 - accuracy: 0.8987\n",
      "Epoch 69/100\n",
      "24/24 [==============================] - 0s 477us/step - loss: 0.2335 - accuracy: 0.9000\n",
      "Epoch 70/100\n",
      "24/24 [==============================] - 0s 477us/step - loss: 0.2330 - accuracy: 0.9000\n",
      "Epoch 71/100\n",
      "24/24 [==============================] - 0s 477us/step - loss: 0.2325 - accuracy: 0.9000\n",
      "Epoch 72/100\n",
      "24/24 [==============================] - 0s 520us/step - loss: 0.2320 - accuracy: 0.9013\n",
      "Epoch 73/100\n",
      "24/24 [==============================] - 0s 477us/step - loss: 0.2317 - accuracy: 0.9000\n",
      "Epoch 74/100\n",
      "24/24 [==============================] - 0s 477us/step - loss: 0.2312 - accuracy: 0.9013\n",
      "Epoch 75/100\n",
      "24/24 [==============================] - 0s 477us/step - loss: 0.2308 - accuracy: 0.9013\n",
      "Epoch 76/100\n",
      "24/24 [==============================] - 0s 477us/step - loss: 0.2303 - accuracy: 0.9013\n",
      "Epoch 77/100\n",
      "24/24 [==============================] - 0s 477us/step - loss: 0.2298 - accuracy: 0.9013\n",
      "Epoch 78/100\n",
      "24/24 [==============================] - 0s 477us/step - loss: 0.2295 - accuracy: 0.9027\n",
      "Epoch 79/100\n",
      "24/24 [==============================] - 0s 477us/step - loss: 0.2291 - accuracy: 0.9027\n",
      "Epoch 80/100\n",
      "24/24 [==============================] - 0s 477us/step - loss: 0.2287 - accuracy: 0.9027\n"
     ]
    },
    {
     "name": "stdout",
     "output_type": "stream",
     "text": [
      "Epoch 81/100\n",
      "24/24 [==============================] - 0s 477us/step - loss: 0.2283 - accuracy: 0.9013\n",
      "Epoch 82/100\n",
      "24/24 [==============================] - 0s 477us/step - loss: 0.2279 - accuracy: 0.9027\n",
      "Epoch 83/100\n",
      "24/24 [==============================] - 0s 477us/step - loss: 0.2276 - accuracy: 0.9013\n",
      "Epoch 84/100\n",
      "24/24 [==============================] - 0s 520us/step - loss: 0.2273 - accuracy: 0.9027\n",
      "Epoch 85/100\n",
      "24/24 [==============================] - 0s 520us/step - loss: 0.2269 - accuracy: 0.9027\n",
      "Epoch 86/100\n",
      "24/24 [==============================] - 0s 520us/step - loss: 0.2266 - accuracy: 0.9013\n",
      "Epoch 87/100\n",
      "24/24 [==============================] - 0s 520us/step - loss: 0.2262 - accuracy: 0.9013\n",
      "Epoch 88/100\n",
      "24/24 [==============================] - 0s 477us/step - loss: 0.2260 - accuracy: 0.9013\n",
      "Epoch 89/100\n",
      "24/24 [==============================] - 0s 564us/step - loss: 0.2256 - accuracy: 0.9027\n",
      "Epoch 90/100\n",
      "24/24 [==============================] - 0s 520us/step - loss: 0.2254 - accuracy: 0.9027\n",
      "Epoch 91/100\n",
      "24/24 [==============================] - 0s 477us/step - loss: 0.2251 - accuracy: 0.9013\n",
      "Epoch 92/100\n",
      "24/24 [==============================] - 0s 477us/step - loss: 0.2246 - accuracy: 0.9013\n",
      "Epoch 93/100\n",
      "24/24 [==============================] - 0s 520us/step - loss: 0.2244 - accuracy: 0.9013\n",
      "Epoch 94/100\n",
      "24/24 [==============================] - 0s 477us/step - loss: 0.2240 - accuracy: 0.9013\n",
      "Epoch 95/100\n",
      "24/24 [==============================] - 0s 477us/step - loss: 0.2238 - accuracy: 0.9027\n",
      "Epoch 96/100\n",
      "24/24 [==============================] - 0s 477us/step - loss: 0.2235 - accuracy: 0.9027\n",
      "Epoch 97/100\n",
      "24/24 [==============================] - 0s 477us/step - loss: 0.2233 - accuracy: 0.9027\n",
      "Epoch 98/100\n",
      "24/24 [==============================] - 0s 520us/step - loss: 0.2230 - accuracy: 0.9013\n",
      "Epoch 99/100\n",
      "24/24 [==============================] - 0s 520us/step - loss: 0.2228 - accuracy: 0.9027\n",
      "Epoch 100/100\n",
      "24/24 [==============================] - 0s 477us/step - loss: 0.2225 - accuracy: 0.9013\n"
     ]
    }
   ],
   "source": [
    "# Compile the Sequential model together and customize metrics\n",
    "new_model.compile(loss=\"binary_crossentropy\", optimizer=\"adam\", metrics=[\"accuracy\"])\n",
    "\n",
    "# Fit the model to the training data\n",
    "new_fit_model = new_model.fit(X_moon_train_scaled, y_moon_train, epochs=100, shuffle=True)"
   ]
  },
  {
   "cell_type": "code",
   "execution_count": null,
   "id": "de48d766",
   "metadata": {},
   "outputs": [],
   "source": []
  }
 ],
 "metadata": {
  "kernelspec": {
   "display_name": "mlenv",
   "language": "python",
   "name": "mlenv"
  },
  "language_info": {
   "codemirror_mode": {
    "name": "ipython",
    "version": 3
   },
   "file_extension": ".py",
   "mimetype": "text/x-python",
   "name": "python",
   "nbconvert_exporter": "python",
   "pygments_lexer": "ipython3",
   "version": "3.7.10"
  }
 },
 "nbformat": 4,
 "nbformat_minor": 5
}
